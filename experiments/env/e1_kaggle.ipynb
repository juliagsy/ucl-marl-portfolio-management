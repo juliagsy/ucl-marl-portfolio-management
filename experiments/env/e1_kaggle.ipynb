{
  "nbformat": 4,
  "nbformat_minor": 0,
  "metadata": {
    "colab": {
      "provenance": [],
      "toc_visible": true
    },
    "kernelspec": {
      "name": "python3",
      "display_name": "Python 3"
    },
    "language_info": {
      "name": "python"
    }
  },
  "cells": [
    {
      "cell_type": "markdown",
      "source": [
        "# Imports"
      ],
      "metadata": {
        "id": "ruZOtW7WfjEi"
      }
    },
    {
      "cell_type": "markdown",
      "source": [
        "## Installation"
      ],
      "metadata": {
        "id": "ry2CiBzShB_L"
      }
    },
    {
      "cell_type": "code",
      "source": [
        "! pip install yfinance\n",
        "! pip install gym\n",
        "! pip install stable-baselines3\n",
        "! pip install ta\n",
        "! pip install backtesting"
      ],
      "metadata": {
        "colab": {
          "base_uri": "https://localhost:8080/"
        },
        "id": "y6GHHhPTxucx",
        "outputId": "cd7c58f3-0ff7-4288-c39f-f5646018854c"
      },
      "execution_count": null,
      "outputs": [
        {
          "output_type": "stream",
          "name": "stdout",
          "text": [
            "Looking in indexes: https://pypi.org/simple, https://us-python.pkg.dev/colab-wheels/public/simple/\n",
            "Collecting yfinance\n",
            "  Downloading yfinance-0.2.11-py2.py3-none-any.whl (59 kB)\n",
            "\u001b[2K     \u001b[90m━━━━━━━━━━━━━━━━━━━━━━━━━━━━━━━━━━━━━━━━\u001b[0m \u001b[32m59.2/59.2 KB\u001b[0m \u001b[31m1.2 MB/s\u001b[0m eta \u001b[36m0:00:00\u001b[0m\n",
            "\u001b[?25hRequirement already satisfied: pytz>=2022.5 in /usr/local/lib/python3.8/dist-packages (from yfinance) (2022.7.1)\n",
            "Requirement already satisfied: multitasking>=0.0.7 in /usr/local/lib/python3.8/dist-packages (from yfinance) (0.0.11)\n",
            "Requirement already satisfied: appdirs>=1.4.4 in /usr/local/lib/python3.8/dist-packages (from yfinance) (1.4.4)\n",
            "Collecting cryptography>=3.3.2\n",
            "  Downloading cryptography-39.0.1-cp36-abi3-manylinux_2_28_x86_64.whl (4.2 MB)\n",
            "\u001b[2K     \u001b[90m━━━━━━━━━━━━━━━━━━━━━━━━━━━━━━━━━━━━━━━━\u001b[0m \u001b[32m4.2/4.2 MB\u001b[0m \u001b[31m27.7 MB/s\u001b[0m eta \u001b[36m0:00:00\u001b[0m\n",
            "\u001b[?25hRequirement already satisfied: lxml>=4.9.1 in /usr/local/lib/python3.8/dist-packages (from yfinance) (4.9.2)\n",
            "Requirement already satisfied: numpy>=1.16.5 in /usr/local/lib/python3.8/dist-packages (from yfinance) (1.21.6)\n",
            "Collecting requests>=2.26\n",
            "  Downloading requests-2.28.2-py3-none-any.whl (62 kB)\n",
            "\u001b[2K     \u001b[90m━━━━━━━━━━━━━━━━━━━━━━━━━━━━━━━━━━━━━━━━\u001b[0m \u001b[32m62.8/62.8 KB\u001b[0m \u001b[31m2.5 MB/s\u001b[0m eta \u001b[36m0:00:00\u001b[0m\n",
            "\u001b[?25hCollecting html5lib>=1.1\n",
            "  Downloading html5lib-1.1-py2.py3-none-any.whl (112 kB)\n",
            "\u001b[2K     \u001b[90m━━━━━━━━━━━━━━━━━━━━━━━━━━━━━━━━━━━━━━━\u001b[0m \u001b[32m112.2/112.2 KB\u001b[0m \u001b[31m4.5 MB/s\u001b[0m eta \u001b[36m0:00:00\u001b[0m\n",
            "\u001b[?25hCollecting frozendict>=2.3.4\n",
            "  Downloading frozendict-2.3.4-cp38-cp38-manylinux_2_17_x86_64.manylinux2014_x86_64.whl (110 kB)\n",
            "\u001b[2K     \u001b[90m━━━━━━━━━━━━━━━━━━━━━━━━━━━━━━━━━━━━━━━\u001b[0m \u001b[32m111.0/111.0 KB\u001b[0m \u001b[31m1.4 MB/s\u001b[0m eta \u001b[36m0:00:00\u001b[0m\n",
            "\u001b[?25hRequirement already satisfied: pandas>=1.3.0 in /usr/local/lib/python3.8/dist-packages (from yfinance) (1.3.5)\n",
            "Collecting beautifulsoup4>=4.11.1\n",
            "  Downloading beautifulsoup4-4.11.2-py3-none-any.whl (129 kB)\n",
            "\u001b[2K     \u001b[90m━━━━━━━━━━━━━━━━━━━━━━━━━━━━━━━━━━━━━━━\u001b[0m \u001b[32m129.4/129.4 KB\u001b[0m \u001b[31m4.1 MB/s\u001b[0m eta \u001b[36m0:00:00\u001b[0m\n",
            "\u001b[?25hCollecting soupsieve>1.2\n",
            "  Downloading soupsieve-2.3.2.post1-py3-none-any.whl (37 kB)\n",
            "Requirement already satisfied: cffi>=1.12 in /usr/local/lib/python3.8/dist-packages (from cryptography>=3.3.2->yfinance) (1.15.1)\n",
            "Requirement already satisfied: webencodings in /usr/local/lib/python3.8/dist-packages (from html5lib>=1.1->yfinance) (0.5.1)\n",
            "Requirement already satisfied: six>=1.9 in /usr/local/lib/python3.8/dist-packages (from html5lib>=1.1->yfinance) (1.15.0)\n",
            "Requirement already satisfied: python-dateutil>=2.7.3 in /usr/local/lib/python3.8/dist-packages (from pandas>=1.3.0->yfinance) (2.8.2)\n",
            "Requirement already satisfied: charset-normalizer<4,>=2 in /usr/local/lib/python3.8/dist-packages (from requests>=2.26->yfinance) (2.1.1)\n",
            "Requirement already satisfied: urllib3<1.27,>=1.21.1 in /usr/local/lib/python3.8/dist-packages (from requests>=2.26->yfinance) (1.24.3)\n",
            "Requirement already satisfied: certifi>=2017.4.17 in /usr/local/lib/python3.8/dist-packages (from requests>=2.26->yfinance) (2022.12.7)\n",
            "Requirement already satisfied: idna<4,>=2.5 in /usr/local/lib/python3.8/dist-packages (from requests>=2.26->yfinance) (2.10)\n",
            "Requirement already satisfied: pycparser in /usr/local/lib/python3.8/dist-packages (from cffi>=1.12->cryptography>=3.3.2->yfinance) (2.21)\n",
            "Installing collected packages: soupsieve, requests, html5lib, frozendict, cryptography, beautifulsoup4, yfinance\n",
            "  Attempting uninstall: requests\n",
            "    Found existing installation: requests 2.25.1\n",
            "    Uninstalling requests-2.25.1:\n",
            "      Successfully uninstalled requests-2.25.1\n",
            "  Attempting uninstall: html5lib\n",
            "    Found existing installation: html5lib 1.0.1\n",
            "    Uninstalling html5lib-1.0.1:\n",
            "      Successfully uninstalled html5lib-1.0.1\n",
            "  Attempting uninstall: beautifulsoup4\n",
            "    Found existing installation: beautifulsoup4 4.6.3\n",
            "    Uninstalling beautifulsoup4-4.6.3:\n",
            "      Successfully uninstalled beautifulsoup4-4.6.3\n",
            "Successfully installed beautifulsoup4-4.11.2 cryptography-39.0.1 frozendict-2.3.4 html5lib-1.1 requests-2.28.2 soupsieve-2.3.2.post1 yfinance-0.2.11\n",
            "Looking in indexes: https://pypi.org/simple, https://us-python.pkg.dev/colab-wheels/public/simple/\n",
            "Requirement already satisfied: gym in /usr/local/lib/python3.8/dist-packages (0.25.2)\n",
            "Requirement already satisfied: numpy>=1.18.0 in /usr/local/lib/python3.8/dist-packages (from gym) (1.21.6)\n",
            "Requirement already satisfied: gym-notices>=0.0.4 in /usr/local/lib/python3.8/dist-packages (from gym) (0.0.8)\n",
            "Requirement already satisfied: cloudpickle>=1.2.0 in /usr/local/lib/python3.8/dist-packages (from gym) (2.2.1)\n",
            "Requirement already satisfied: importlib-metadata>=4.8.0 in /usr/local/lib/python3.8/dist-packages (from gym) (6.0.0)\n",
            "Requirement already satisfied: zipp>=0.5 in /usr/local/lib/python3.8/dist-packages (from importlib-metadata>=4.8.0->gym) (3.12.1)\n",
            "Looking in indexes: https://pypi.org/simple, https://us-python.pkg.dev/colab-wheels/public/simple/\n",
            "Collecting stable-baselines3\n",
            "  Downloading stable_baselines3-1.7.0-py3-none-any.whl (171 kB)\n",
            "\u001b[2K     \u001b[90m━━━━━━━━━━━━━━━━━━━━━━━━━━━━━━━━━━━━━━━\u001b[0m \u001b[32m171.8/171.8 KB\u001b[0m \u001b[31m3.6 MB/s\u001b[0m eta \u001b[36m0:00:00\u001b[0m\n",
            "\u001b[?25hRequirement already satisfied: pandas in /usr/local/lib/python3.8/dist-packages (from stable-baselines3) (1.3.5)\n",
            "Requirement already satisfied: cloudpickle in /usr/local/lib/python3.8/dist-packages (from stable-baselines3) (2.2.1)\n",
            "Requirement already satisfied: torch>=1.11 in /usr/local/lib/python3.8/dist-packages (from stable-baselines3) (1.13.1+cu116)\n",
            "Requirement already satisfied: matplotlib in /usr/local/lib/python3.8/dist-packages (from stable-baselines3) (3.2.2)\n",
            "Requirement already satisfied: numpy in /usr/local/lib/python3.8/dist-packages (from stable-baselines3) (1.21.6)\n",
            "Collecting importlib-metadata~=4.13\n",
            "  Downloading importlib_metadata-4.13.0-py3-none-any.whl (23 kB)\n",
            "Collecting gym==0.21\n",
            "  Downloading gym-0.21.0.tar.gz (1.5 MB)\n",
            "\u001b[2K     \u001b[90m━━━━━━━━━━━━━━━━━━━━━━━━━━━━━━━━━━━━━━━━\u001b[0m \u001b[32m1.5/1.5 MB\u001b[0m \u001b[31m25.3 MB/s\u001b[0m eta \u001b[36m0:00:00\u001b[0m\n",
            "\u001b[?25h  Preparing metadata (setup.py) ... \u001b[?25l\u001b[?25hdone\n",
            "Requirement already satisfied: zipp>=0.5 in /usr/local/lib/python3.8/dist-packages (from importlib-metadata~=4.13->stable-baselines3) (3.12.1)\n",
            "Requirement already satisfied: typing-extensions in /usr/local/lib/python3.8/dist-packages (from torch>=1.11->stable-baselines3) (4.4.0)\n",
            "Requirement already satisfied: python-dateutil>=2.1 in /usr/local/lib/python3.8/dist-packages (from matplotlib->stable-baselines3) (2.8.2)\n",
            "Requirement already satisfied: cycler>=0.10 in /usr/local/lib/python3.8/dist-packages (from matplotlib->stable-baselines3) (0.11.0)\n",
            "Requirement already satisfied: kiwisolver>=1.0.1 in /usr/local/lib/python3.8/dist-packages (from matplotlib->stable-baselines3) (1.4.4)\n",
            "Requirement already satisfied: pyparsing!=2.0.4,!=2.1.2,!=2.1.6,>=2.0.1 in /usr/local/lib/python3.8/dist-packages (from matplotlib->stable-baselines3) (3.0.9)\n",
            "Requirement already satisfied: pytz>=2017.3 in /usr/local/lib/python3.8/dist-packages (from pandas->stable-baselines3) (2022.7.1)\n",
            "Requirement already satisfied: six>=1.5 in /usr/local/lib/python3.8/dist-packages (from python-dateutil>=2.1->matplotlib->stable-baselines3) (1.15.0)\n",
            "Building wheels for collected packages: gym\n",
            "  Building wheel for gym (setup.py) ... \u001b[?25l\u001b[?25hdone\n",
            "  Created wheel for gym: filename=gym-0.21.0-py3-none-any.whl size=1616821 sha256=2c0bc094af1030e4d450c7fba2f70e182a67d90e49724c6290ec31417401c48b\n",
            "  Stored in directory: /root/.cache/pip/wheels/27/6d/b3/a3a6e10704795c9b9000f1ab2dc480dfe7bed42f5972806e73\n",
            "Successfully built gym\n",
            "Installing collected packages: importlib-metadata, gym, stable-baselines3\n",
            "  Attempting uninstall: importlib-metadata\n",
            "    Found existing installation: importlib-metadata 6.0.0\n",
            "    Uninstalling importlib-metadata-6.0.0:\n",
            "      Successfully uninstalled importlib-metadata-6.0.0\n",
            "  Attempting uninstall: gym\n",
            "    Found existing installation: gym 0.25.2\n",
            "    Uninstalling gym-0.25.2:\n",
            "      Successfully uninstalled gym-0.25.2\n",
            "Successfully installed gym-0.21.0 importlib-metadata-4.13.0 stable-baselines3-1.7.0\n"
          ]
        }
      ]
    },
    {
      "cell_type": "markdown",
      "source": [
        "## General"
      ],
      "metadata": {
        "id": "bdRkLejZvwwr"
      }
    },
    {
      "cell_type": "code",
      "source": [
        "import numpy as np\n",
        "import matplotlib.pyplot as plt\n",
        "import pandas as pd"
      ],
      "metadata": {
        "id": "XbrhDC6YfjuP"
      },
      "execution_count": null,
      "outputs": []
    },
    {
      "cell_type": "markdown",
      "source": [
        "## Data"
      ],
      "metadata": {
        "id": "gVXYGAAkvz_t"
      }
    },
    {
      "cell_type": "code",
      "source": [
        "from ta import add_all_ta_features\n",
        "import yfinance as yf"
      ],
      "metadata": {
        "id": "b-C5-niIeOoE"
      },
      "execution_count": null,
      "outputs": []
    },
    {
      "cell_type": "markdown",
      "source": [
        "## Environment"
      ],
      "metadata": {
        "id": "-ThdiN2zwIlb"
      }
    },
    {
      "cell_type": "code",
      "source": [
        "import gym \n",
        "from stable_baselines3.common.vec_env import DummyVecEnv\n",
        "from stable_baselines3 import A2C, DDPG, DQN, PPO"
      ],
      "metadata": {
        "id": "x7RFmf4lj3Yt"
      },
      "execution_count": null,
      "outputs": []
    },
    {
      "cell_type": "markdown",
      "source": [
        "## Backtesting"
      ],
      "metadata": {
        "id": "CmDiCGt8wMpk"
      }
    },
    {
      "cell_type": "code",
      "source": [
        "from backtesting import Backtest, Strategy"
      ],
      "metadata": {
        "id": "5hCvaaWHpixR"
      },
      "execution_count": null,
      "outputs": []
    },
    {
      "cell_type": "markdown",
      "source": [
        "# Data"
      ],
      "metadata": {
        "id": "itPimO3WZcN_"
      }
    },
    {
      "cell_type": "markdown",
      "source": [
        "## Tech Indicators"
      ],
      "metadata": {
        "id": "NdcDd-Iqd_-Z"
      }
    },
    {
      "cell_type": "code",
      "source": [
        "def add_ta(df):\n",
        "  ta_df = add_all_ta_features(df, open=\"Open\", high=\"High\", low=\"Low\", close=\"Close\", volume=\"Volume\")\n",
        "  print(ta_df.columns)\n",
        "  ta_df = ta_df[[\"Open\", \"High\", \"Low\", \"Close\", \"Volume\", \"Adj Close\", \"volume_obv\",\n",
        "                                \"volume_adi\", \"trend_adx\", \"momentum_ao\", \"trend_macd\", \"momentum_rsi\", \n",
        "                                \"momentum_stoch\"]]\n",
        "  ta_df = ta_df.fillna(ta_df.mean())\n",
        "  return ta_df"
      ],
      "metadata": {
        "id": "lbA-Y5Y3grjA"
      },
      "execution_count": null,
      "outputs": []
    },
    {
      "cell_type": "markdown",
      "source": [
        "## Stocks"
      ],
      "metadata": {
        "id": "ttJNGUWuvVF2"
      }
    },
    {
      "cell_type": "markdown",
      "source": [
        "1. Apple Inc. (AAPL)\n",
        "2. Microsoft Corp. (MSFT)\n",
        "3. Amazon.com, Inc. ( AMZN)\n",
        "4. Tesla, Inc. (TSLA)\n",
        "5. Nvidia Corp. (NVDA)"
      ],
      "metadata": {
        "id": "J3JCv_b7iw9b"
      }
    },
    {
      "cell_type": "code",
      "source": [
        "# interval = 1m,2m,5m,15m,30m,60m,90m,1h,1d,5d,1wk,1mo,3mo\n",
        "# prepost = T/F\n",
        "\n",
        "aapl_df = yf.download(\"AAPL\", start=\"2018-01-01\", end=\"2022-12-31\", keepna=True)\n",
        "aapl_df = aapl_df.fillna(aapl_df.mean())\n",
        "aapl_df = add_ta(aapl_df)\n",
        "\n",
        "# msft_df = yf.download(\"MSFT\", start=\"2022-12-01\", end=\"2022-12-31\", keepna=True)\n",
        "# amzn_df = yf.download(\"AMZN\", start=\"2022-12-01\", end=\"2022-12-31\", keepna=True)\n",
        "# tsla_df = yf.download(\"TSLA\", start=\"2022-12-01\", end=\"2022-12-31\", keepna=True)\n",
        "# nvda_df = yf.download(\"NVDA\", start=\"2022-12-01\", end=\"2022-12-31\", keepna=True)\n",
        "\n",
        "caas_df = yf.download(\"CAAS\", start=\"2018-01-01\", end=\"2022-12-31\", keepna=True)\n",
        "caas_df = caas_df.fillna(caas_df.mean())\n",
        "caas_df = add_ta(caas_df)\n",
        "\n",
        "# asc_df = yf.download(\"ASC\", start=\"2022-12-01\", end=\"2022-12-31\", keepna=True)"
      ],
      "metadata": {
        "colab": {
          "base_uri": "https://localhost:8080/"
        },
        "id": "KQW7POdeiKTJ",
        "outputId": "ab402ff2-b8a2-4834-a616-e8484aba3b1c"
      },
      "execution_count": null,
      "outputs": [
        {
          "output_type": "stream",
          "name": "stdout",
          "text": [
            "\r[*********************100%***********************]  1 of 1 completed\n"
          ]
        },
        {
          "output_type": "stream",
          "name": "stderr",
          "text": [
            "/usr/local/lib/python3.8/dist-packages/ta/trend.py:780: RuntimeWarning: invalid value encountered in double_scalars\n",
            "  dip[idx] = 100 * (self._dip[idx] / value)\n",
            "/usr/local/lib/python3.8/dist-packages/ta/trend.py:785: RuntimeWarning: invalid value encountered in double_scalars\n",
            "  din[idx] = 100 * (self._din[idx] / value)\n"
          ]
        },
        {
          "output_type": "stream",
          "name": "stdout",
          "text": [
            "Index(['Open', 'High', 'Low', 'Close', 'Adj Close', 'Volume', 'volume_adi',\n",
            "       'volume_obv', 'volume_cmf', 'volume_fi', 'volume_em', 'volume_sma_em',\n",
            "       'volume_vpt', 'volume_vwap', 'volume_mfi', 'volume_nvi',\n",
            "       'volatility_bbm', 'volatility_bbh', 'volatility_bbl', 'volatility_bbw',\n",
            "       'volatility_bbp', 'volatility_bbhi', 'volatility_bbli',\n",
            "       'volatility_kcc', 'volatility_kch', 'volatility_kcl', 'volatility_kcw',\n",
            "       'volatility_kcp', 'volatility_kchi', 'volatility_kcli',\n",
            "       'volatility_dcl', 'volatility_dch', 'volatility_dcm', 'volatility_dcw',\n",
            "       'volatility_dcp', 'volatility_atr', 'volatility_ui', 'trend_macd',\n",
            "       'trend_macd_signal', 'trend_macd_diff', 'trend_sma_fast',\n",
            "       'trend_sma_slow', 'trend_ema_fast', 'trend_ema_slow',\n",
            "       'trend_vortex_ind_pos', 'trend_vortex_ind_neg', 'trend_vortex_ind_diff',\n",
            "       'trend_trix', 'trend_mass_index', 'trend_dpo', 'trend_kst',\n",
            "       'trend_kst_sig', 'trend_kst_diff', 'trend_ichimoku_conv',\n",
            "       'trend_ichimoku_base', 'trend_ichimoku_a', 'trend_ichimoku_b',\n",
            "       'trend_stc', 'trend_adx', 'trend_adx_pos', 'trend_adx_neg', 'trend_cci',\n",
            "       'trend_visual_ichimoku_a', 'trend_visual_ichimoku_b', 'trend_aroon_up',\n",
            "       'trend_aroon_down', 'trend_aroon_ind', 'trend_psar_up',\n",
            "       'trend_psar_down', 'trend_psar_up_indicator',\n",
            "       'trend_psar_down_indicator', 'momentum_rsi', 'momentum_stoch_rsi',\n",
            "       'momentum_stoch_rsi_k', 'momentum_stoch_rsi_d', 'momentum_tsi',\n",
            "       'momentum_uo', 'momentum_stoch', 'momentum_stoch_signal', 'momentum_wr',\n",
            "       'momentum_ao', 'momentum_roc', 'momentum_ppo', 'momentum_ppo_signal',\n",
            "       'momentum_ppo_hist', 'momentum_pvo', 'momentum_pvo_signal',\n",
            "       'momentum_pvo_hist', 'momentum_kama', 'others_dr', 'others_dlr',\n",
            "       'others_cr'],\n",
            "      dtype='object')\n",
            "[*********************100%***********************]  1 of 1 completed\n",
            "Index(['Open', 'High', 'Low', 'Close', 'Adj Close', 'Volume', 'volume_adi',\n",
            "       'volume_obv', 'volume_cmf', 'volume_fi', 'volume_em', 'volume_sma_em',\n",
            "       'volume_vpt', 'volume_vwap', 'volume_mfi', 'volume_nvi',\n",
            "       'volatility_bbm', 'volatility_bbh', 'volatility_bbl', 'volatility_bbw',\n",
            "       'volatility_bbp', 'volatility_bbhi', 'volatility_bbli',\n",
            "       'volatility_kcc', 'volatility_kch', 'volatility_kcl', 'volatility_kcw',\n",
            "       'volatility_kcp', 'volatility_kchi', 'volatility_kcli',\n",
            "       'volatility_dcl', 'volatility_dch', 'volatility_dcm', 'volatility_dcw',\n",
            "       'volatility_dcp', 'volatility_atr', 'volatility_ui', 'trend_macd',\n",
            "       'trend_macd_signal', 'trend_macd_diff', 'trend_sma_fast',\n",
            "       'trend_sma_slow', 'trend_ema_fast', 'trend_ema_slow',\n",
            "       'trend_vortex_ind_pos', 'trend_vortex_ind_neg', 'trend_vortex_ind_diff',\n",
            "       'trend_trix', 'trend_mass_index', 'trend_dpo', 'trend_kst',\n",
            "       'trend_kst_sig', 'trend_kst_diff', 'trend_ichimoku_conv',\n",
            "       'trend_ichimoku_base', 'trend_ichimoku_a', 'trend_ichimoku_b',\n",
            "       'trend_stc', 'trend_adx', 'trend_adx_pos', 'trend_adx_neg', 'trend_cci',\n",
            "       'trend_visual_ichimoku_a', 'trend_visual_ichimoku_b', 'trend_aroon_up',\n",
            "       'trend_aroon_down', 'trend_aroon_ind', 'trend_psar_up',\n",
            "       'trend_psar_down', 'trend_psar_up_indicator',\n",
            "       'trend_psar_down_indicator', 'momentum_rsi', 'momentum_stoch_rsi',\n",
            "       'momentum_stoch_rsi_k', 'momentum_stoch_rsi_d', 'momentum_tsi',\n",
            "       'momentum_uo', 'momentum_stoch', 'momentum_stoch_signal', 'momentum_wr',\n",
            "       'momentum_ao', 'momentum_roc', 'momentum_ppo', 'momentum_ppo_signal',\n",
            "       'momentum_ppo_hist', 'momentum_pvo', 'momentum_pvo_signal',\n",
            "       'momentum_pvo_hist', 'momentum_kama', 'others_dr', 'others_dlr',\n",
            "       'others_cr'],\n",
            "      dtype='object')\n"
          ]
        }
      ]
    },
    {
      "cell_type": "code",
      "source": [
        "def add_cov(df):\n",
        "  df = df.reset_index()\n",
        "\n",
        "  cov_list = []\n",
        "  return_list = []\n",
        "\n",
        "  # look back is one year\n",
        "  lookback=252\n",
        "  for i in range(lookback,len(df.index.unique())):\n",
        "    data_lookback = df.iloc[i-lookback:i,:]\n",
        "    price_lookback=data_lookback.pivot_table(index = 'Date', values = 'Close')\n",
        "    return_lookback = price_lookback.pct_change().dropna()\n",
        "    return_list.append(return_lookback)\n",
        "\n",
        "    covs = return_lookback.cov().values \n",
        "    cov_list.append(covs)\n",
        "\n",
        "\n",
        "  df_cov = pd.DataFrame({'Date':df[\"Date\"].unique()[lookback:],'cov_list':cov_list,'return_list':return_list})\n",
        "  df = df.merge(df_cov, on='Date')\n",
        "  df = df.sort_values(['Date']).reset_index(drop=True)\n",
        "  return df"
      ],
      "metadata": {
        "id": "uJtS7XLJuSs2"
      },
      "execution_count": null,
      "outputs": []
    },
    {
      "cell_type": "code",
      "source": [
        "aapl_df = add_cov(aapl_df)\n",
        "caas_df = add_cov(caas_df)"
      ],
      "metadata": {
        "id": "QwlliL4VulGv"
      },
      "execution_count": null,
      "outputs": []
    },
    {
      "cell_type": "code",
      "source": [
        "new_aapl_df = aapl_df.copy()\n",
        "new_aapl_df[\"tic\"] = \"AAPL\"\n",
        "new_caas_df = caas_df.copy()\n",
        "new_caas_df[\"tic\"] = \"CAAS\"\n",
        "mixed_df = pd.concat([new_aapl_df, new_caas_df])"
      ],
      "metadata": {
        "id": "8OADGaYLI-bv"
      },
      "execution_count": null,
      "outputs": []
    },
    {
      "cell_type": "markdown",
      "source": [
        "# Environment"
      ],
      "metadata": {
        "id": "mVYjY6QFj2Uy"
      }
    },
    {
      "cell_type": "code",
      "source": [
        "class StockPortfolioEnv(gym.Env):\n",
        "  def __init__(self):\n",
        "    pass\n",
        "  \n",
        "  def reset(self):\n",
        "    pass\n",
        "  \n",
        "  def step(self, action):\n",
        "    pass"
      ],
      "metadata": {
        "id": "XIA9Tg7bmZGN"
      },
      "execution_count": null,
      "outputs": []
    },
    {
      "cell_type": "markdown",
      "source": [
        "## Kaggle Tutorial"
      ],
      "metadata": {
        "id": "r4kOv8W1vglS"
      }
    },
    {
      "cell_type": "code",
      "source": [
        "class StockPortfolioEnv(gym.Env):\n",
        "  def __init__(self, \n",
        "                df,\n",
        "                stock_dim,\n",
        "                hmax,\n",
        "                initial_amount,\n",
        "                transaction_cost_pct,\n",
        "                reward_scaling,\n",
        "                state_space,\n",
        "                action_space,\n",
        "                tech_indicator_list,\n",
        "                turbulence_threshold=None,\n",
        "                lookback=252,\n",
        "                day = 0):\n",
        "    #super(StockEnv, self).__init__()\n",
        "    #money = 10 , scope = 1\n",
        "    self.day = day\n",
        "    self.lookback=lookback\n",
        "    self.df = df\n",
        "    self.stock_dim = stock_dim\n",
        "    self.hmax = hmax\n",
        "    self.initial_amount = initial_amount\n",
        "    self.transaction_cost_pct =transaction_cost_pct\n",
        "    self.reward_scaling = reward_scaling\n",
        "    self.state_space = state_space\n",
        "    self.action_space = action_space\n",
        "    self.tech_indicator_list = tech_indicator_list\n",
        "\n",
        "    # action_space normalization and shape is self.stock_dim\n",
        "    self.action_space = gym.spaces.Box(low = -1, high = 1,shape = (self.action_space,)) \n",
        "    # Shape = ??\n",
        "    # covariance matrix + technical indicators\n",
        "    self.observation_space = gym.spaces.Box(low=0, high=np.inf, shape = (1+len(self.tech_indicator_list),self.state_space))\n",
        "\n",
        "    # load data from a pandas dataframe\n",
        "    self.data = self.df.loc[self.day,:]\n",
        "    self.covs = [[x[0][0] for x in self.data['cov_list']]]\n",
        "    self.state =  np.append(np.array(self.covs), [self.data[tech].values.tolist() for tech in self.tech_indicator_list ], axis=0)\n",
        "    self.terminal = False     \n",
        "    self.turbulence_threshold = turbulence_threshold        \n",
        "    # initalize state: inital portfolio return + individual stock return + individual weights\n",
        "    self.portfolio_value = self.initial_amount\n",
        "\n",
        "    # memorize portfolio value each step\n",
        "    self.asset_memory = [self.initial_amount]\n",
        "    # memorize portfolio return each step\n",
        "    self.portfolio_return_memory = [0]\n",
        "    self.actions_memory=[[1/self.stock_dim]*self.stock_dim]\n",
        "    self.date_memory=[self.data[\"Date\"].unique()[0]]\n",
        "\n",
        "\n",
        "        \n",
        "  def step(self, actions):\n",
        "    # print(self.day)\n",
        "    self.terminal = self.day >= len(self.df.index.unique())/self.stock_dim-1\n",
        "    # print(actions)\n",
        "\n",
        "    if self.terminal:\n",
        "      df = pd.DataFrame(self.portfolio_return_memory)\n",
        "      df.columns = ['daily_return']\n",
        "      plt.plot(df.daily_return.cumsum(),'r')\n",
        "      # plt.savefig('results/cumulative_reward.png')\n",
        "      plt.close()\n",
        "\n",
        "      plt.plot(self.portfolio_return_memory,'r')\n",
        "      # plt.savefig('results/rewards.png')\n",
        "      plt.close()\n",
        "\n",
        "      print(\"=================================\")\n",
        "      print(\"begin_total_asset:{}\".format(self.asset_memory[0]))           \n",
        "      print(\"end_total_asset:{}\".format(self.portfolio_value))\n",
        "\n",
        "      df_daily_return = pd.DataFrame(self.portfolio_return_memory)\n",
        "      df_daily_return.columns = ['daily_return']\n",
        "      if df_daily_return['daily_return'].std() !=0:\n",
        "        sharpe = (252**0.5)*df_daily_return['daily_return'].mean()/ \\\n",
        "                  df_daily_return['daily_return'].std()\n",
        "        print(\"Sharpe: \",sharpe)\n",
        "      print(\"=================================\")\n",
        "\n",
        "      return self.state, self.reward, self.terminal,{}\n",
        "\n",
        "    else:\n",
        "      #print(\"Model actions: \",actions)\n",
        "      # actions are the portfolio weight\n",
        "      # normalize to sum of 1\n",
        "      #if (np.array(actions) - np.array(actions).min()).sum() != 0:\n",
        "      #  norm_actions = (np.array(actions) - np.array(actions).min()) / (np.array(actions) - np.array(actions).min()).sum()\n",
        "      #else:\n",
        "      #  norm_actions = actions\n",
        "      weights = self.softmax_normalization(actions) \n",
        "      #print(\"Normalized actions: \", weights)\n",
        "      self.actions_memory.append(weights)\n",
        "      last_day_memory = self.data\n",
        "\n",
        "      #load next state\n",
        "      self.day += 1\n",
        "      self.data = self.df.loc[self.day,:]\n",
        "      self.covs = [[x[0][0] for x in self.data['cov_list']]]\n",
        "      self.state =  np.append(np.array(self.covs), [self.data[tech].values.tolist() for tech in self.tech_indicator_list ], axis=0)\n",
        "      #print(self.state)\n",
        "      # calcualte portfolio return\n",
        "      # individual stocks' return * weight\n",
        "      portfolio_return = sum(((self.data[\"Close\"].values / last_day_memory[\"Close\"].values)-1)*weights)\n",
        "      # update portfolio value\n",
        "      new_portfolio_value = self.portfolio_value*(1+portfolio_return)\n",
        "      self.portfolio_value = new_portfolio_value\n",
        "\n",
        "      # save into memory\n",
        "      self.portfolio_return_memory.append(portfolio_return)\n",
        "      self.date_memory.append(self.data[\"Date\"].unique()[0])            \n",
        "      self.asset_memory.append(new_portfolio_value)\n",
        "\n",
        "      # the reward is the new portfolio value or end portfolo value\n",
        "      self.reward = new_portfolio_value \n",
        "      #print(\"Step reward: \", self.reward)\n",
        "      #self.reward = self.reward*self.reward_scaling\n",
        "\n",
        "    return self.state, self.reward, self.terminal, {}\n",
        "\n",
        "  def reset(self):\n",
        "    self.asset_memory = [self.initial_amount]\n",
        "    self.day = 0\n",
        "    self.data = self.df.loc[self.day,:]\n",
        "    # load states\n",
        "    self.covs = [[x[0][0] for x in self.data['cov_list']]]\n",
        "    self.state =  np.append(np.array(self.covs), [self.data[tech].values.tolist() for tech in self.tech_indicator_list ], axis=0)\n",
        "    self.portfolio_value = self.initial_amount\n",
        "    #self.cost = 0\n",
        "    #self.trades = 0\n",
        "    self.terminal = False \n",
        "    self.portfolio_return_memory = [0]\n",
        "    self.actions_memory=[[1/self.stock_dim]*self.stock_dim]\n",
        "    self.date_memory=[self.data[\"Date\"].unique()[0]] \n",
        "    return self.state\n",
        "    \n",
        "  def render(self, mode='human'):\n",
        "    return self.state\n",
        "      \n",
        "  def softmax_normalization(self, actions):\n",
        "    numerator = np.exp(actions)\n",
        "    denominator = np.sum(np.exp(actions))\n",
        "    softmax_output = numerator/denominator\n",
        "    return softmax_output\n",
        "\n",
        "  \n",
        "  def save_asset_memory(self):\n",
        "    date_list = self.date_memory\n",
        "    portfolio_return = self.portfolio_return_memory\n",
        "    #print(len(date_list))\n",
        "    #print(len(asset_list))\n",
        "    df_account_value = pd.DataFrame({'Date':date_list,'daily_return':portfolio_return})\n",
        "    return df_account_value\n",
        "\n",
        "  def save_action_memory(self):\n",
        "    # date and close price length must match actions length\n",
        "    date_list = self.date_memory\n",
        "    df_date = pd.DataFrame(date_list)\n",
        "    df_date.columns = ['Date']\n",
        "    \n",
        "    action_list = self.actions_memory\n",
        "    df_actions = pd.DataFrame(action_list)\n",
        "    df_actions.columns = self.data[\"tic\"]\n",
        "    df_actions.index = df_date[\"Date\"]\n",
        "    #df_actions = pd.DataFrame({'date':date_list,'actions':action_list})\n",
        "    return df_actions\n",
        "\n",
        "  def _seed(self, seed=None):\n",
        "    self.np_random, seed = seeding.np_random(seed)\n",
        "    return [seed]\n",
        "\n",
        "  def get_sb_env(self):\n",
        "    e = DummyVecEnv([lambda: self])\n",
        "    obs = e.reset()\n",
        "    return e, obs"
      ],
      "metadata": {
        "id": "TybILV4De-mr"
      },
      "execution_count": null,
      "outputs": []
    },
    {
      "cell_type": "code",
      "source": [
        "stock_dimension = len(mixed_df[\"tic\"].unique())\n",
        "state_space = 2\n",
        "\n",
        "env_kwargs = {\n",
        "  \"hmax\": 100, \n",
        "  \"initial_amount\": 1000000, \n",
        "  \"transaction_cost_pct\": 0.001, \n",
        "  \"state_space\": state_space, \n",
        "  \"stock_dim\": stock_dimension, \n",
        "  \"tech_indicator_list\": [\n",
        "    \"volume_obv\",\n",
        "    \"volume_adi\", \n",
        "    \"trend_adx\", \n",
        "    \"momentum_ao\", \n",
        "    \"trend_macd\", \n",
        "    \"momentum_rsi\", \n",
        "    \"momentum_stoch\"\n",
        "  ], \n",
        "  \"action_space\": stock_dimension, \n",
        "  \"reward_scaling\": 1e-4\n",
        "    \n",
        "}\n",
        "\n",
        "env = StockPortfolioEnv(df = mixed_df, **env_kwargs)"
      ],
      "metadata": {
        "id": "xtChcI_bWwtF"
      },
      "execution_count": null,
      "outputs": []
    },
    {
      "cell_type": "code",
      "source": [
        "env_train, _ = env.get_sb_env()\n",
        "print(type(env_train))"
      ],
      "metadata": {
        "colab": {
          "base_uri": "https://localhost:8080/"
        },
        "id": "_7TKIReMWLo4",
        "outputId": "325554cd-798c-4e93-dd92-491b113aef94"
      },
      "execution_count": null,
      "outputs": [
        {
          "output_type": "stream",
          "name": "stdout",
          "text": [
            "<class 'stable_baselines3.common.vec_env.dummy_vec_env.DummyVecEnv'>\n"
          ]
        }
      ]
    },
    {
      "cell_type": "markdown",
      "source": [
        "# Train"
      ],
      "metadata": {
        "id": "omTjQhJRZeNl"
      }
    },
    {
      "cell_type": "code",
      "source": [
        "policy = \"MlpPolicy\""
      ],
      "metadata": {
        "id": "a-J1PdhqWoO5"
      },
      "execution_count": null,
      "outputs": []
    },
    {
      "cell_type": "code",
      "source": [
        "a2c_agent = A2C(policy, env)\n",
        "ddpg_agent = DDPG(policy, env)\n",
        "# dqn_agent = DQN(policy, env)\n",
        "ppo_agent = PPO(policy, env)"
      ],
      "metadata": {
        "id": "2S3msd3tZiHl"
      },
      "execution_count": null,
      "outputs": []
    },
    {
      "cell_type": "code",
      "source": [
        "print(\"A2C\")\n",
        "a2c_result = a2c_agent.learn(\n",
        "    total_timesteps=1000,\n",
        ")\n",
        "\n",
        "print(\"DDPG\")\n",
        "ddpg_result = ddpg_agent.learn(\n",
        "    total_timesteps=1000,\n",
        ")\n",
        "\n",
        "print(\"PPO\")\n",
        "ppo_result = ppo_agent.learn(\n",
        "    total_timesteps=1000,\n",
        ")"
      ],
      "metadata": {
        "colab": {
          "base_uri": "https://localhost:8080/"
        },
        "id": "ah0dR9y0rnpk",
        "outputId": "027fda7d-bc7a-4f52-fb22-a2c44b58cc5f"
      },
      "execution_count": null,
      "outputs": [
        {
          "output_type": "stream",
          "name": "stdout",
          "text": [
            "A2C\n",
            "=================================\n",
            "begin_total_asset:1000000\n",
            "end_total_asset:4698006.246950461\n",
            "Sharpe:  1.154463925347601\n",
            "=================================\n",
            "DDPG\n",
            "=================================\n",
            "begin_total_asset:1000000\n",
            "end_total_asset:4166634.2497731415\n",
            "Sharpe:  0.9646565490149791\n",
            "=================================\n",
            "=================================\n",
            "begin_total_asset:1000000\n",
            "end_total_asset:3133082.761745088\n",
            "Sharpe:  0.8522705448294908\n",
            "=================================\n",
            "PPO\n",
            "=================================\n",
            "begin_total_asset:1000000\n",
            "end_total_asset:5376440.1625009\n",
            "Sharpe:  1.3760031359356613\n",
            "=================================\n",
            "=================================\n",
            "begin_total_asset:1000000\n",
            "end_total_asset:6414873.683664131\n",
            "Sharpe:  1.139750807703231\n",
            "=================================\n",
            "=================================\n",
            "begin_total_asset:1000000\n",
            "end_total_asset:4559476.167170829\n",
            "Sharpe:  1.3572456864992504\n",
            "=================================\n",
            "=================================\n",
            "begin_total_asset:1000000\n",
            "end_total_asset:2713320.7485274947\n",
            "Sharpe:  0.8845335036432287\n",
            "=================================\n"
          ]
        }
      ]
    },
    {
      "cell_type": "markdown",
      "source": [
        "# Predict"
      ],
      "metadata": {
        "id": "DYsyJqelllWu"
      }
    },
    {
      "cell_type": "code",
      "source": [
        "a2c_vec_env = a2c_result.get_env()\n",
        "obs = a2c_vec_env.reset()\n",
        "for i in range(1000):\n",
        "    action, _states = a2c_result.predict(obs, deterministic=True)\n",
        "    obs, reward, done, info = a2c_vec_env.step(action)\n",
        "    # print(\"Step\", i, reward)\n",
        "    a2c_vec_env.render()"
      ],
      "metadata": {
        "colab": {
          "base_uri": "https://localhost:8080/"
        },
        "id": "8p6UtUfzlr4o",
        "outputId": "e8e4ea4c-bbd5-45d1-a29b-0e94b4811d35"
      },
      "execution_count": null,
      "outputs": [
        {
          "output_type": "stream",
          "name": "stdout",
          "text": [
            "=================================\n",
            "begin_total_asset:1000000\n",
            "end_total_asset:3970737.807174312\n",
            "Sharpe:  1.1788267877385412\n",
            "=================================\n"
          ]
        }
      ]
    },
    {
      "cell_type": "markdown",
      "source": [
        "# Backtest"
      ],
      "metadata": {
        "id": "KVPD5FMypfzK"
      }
    },
    {
      "cell_type": "markdown",
      "source": [
        "## To explore"
      ],
      "metadata": {
        "id": "_PbDvUnSvmgr"
      }
    },
    {
      "cell_type": "code",
      "source": [
        "class MLTrainOnceStrategy(Strategy):\n",
        "    price_delta = .004  # 0.4%\n",
        "\n",
        "    def init(self):        \n",
        "        # agent\n",
        "        self.agent = ppo_result\n",
        "        self.vec_env = ppo_result.get_env()\n",
        "        self.obs = self.vec_env.reset()\n",
        "        \n",
        "        # data\n",
        "        # self.data = mixed_df\n",
        "        # self.data.set_index(\"Date\")\n",
        "\n",
        "        # Prepare empty, all-NaN forecast indicator\n",
        "        self.forecasts = self.I(lambda: np.repeat(np.nan, len(self.data)), name='forecast')\n",
        "    \n",
        "    def next(self):\n",
        "        # Proceed only with out-of-sample data. Prepare some variables\n",
        "        high, low, close = self.data.High, self.data.Low, self.data.Close\n",
        "        # current_time = self.data.index[-1]\n",
        "\n",
        "        # Forecast the next movement\n",
        "        action, _states = self.agent.predict(self.obs, deterministic=True)\n",
        "        self.obs, forecast, done, info = self.vec_env.step(action)\n",
        "        self.vec_env.render()\n",
        "\n",
        "        # Update the plotted \"forecast\" indicator\n",
        "        self.forecasts[-1] = forecast\n",
        "\n",
        "        # If our forecast is upwards and we don't already hold a long position\n",
        "        # place a long order for 20% of available account equity. Vice versa for short.\n",
        "        # Also set target take-profit and stop-loss prices to be one price_delta\n",
        "        # away from the current closing price.\n",
        "        upper, lower = close[-1] * (1 + np.r_[1, -1]*self.price_delta)\n",
        "\n",
        "        if forecast > 1000000 and not self.position.is_long:\n",
        "            self.buy(size=.2, tp=upper, sl=lower)\n",
        "        elif forecast <= 1000000 and not self.position.is_short:\n",
        "            self.sell(size=.2, tp=lower, sl=upper)\n",
        "\n",
        "        # Additionally, set aggressive stop-loss on trades that have been open \n",
        "        # for more than two days\n",
        "        # for trade in self.trades:\n",
        "        #     if current_time - trade.entry_time > pd.Timedelta('2 days'):\n",
        "        #         if trade.is_long:\n",
        "        #             trade.sl = max(trade.sl, low)\n",
        "        #         else:\n",
        "        #             trade.sl = min(trade.sl, high)"
      ],
      "metadata": {
        "id": "oqXC_4rFpoVy"
      },
      "execution_count": null,
      "outputs": []
    },
    {
      "cell_type": "code",
      "source": [
        "bt = Backtest(aapl_df, MLTrainOnceStrategy, commission=.0002, margin=.05)\n",
        "bt.run()"
      ],
      "metadata": {
        "colab": {
          "base_uri": "https://localhost:8080/"
        },
        "id": "s0JeqSBvsKGV",
        "outputId": "67234d8a-3b1e-453a-90b5-31aa3692b199"
      },
      "execution_count": null,
      "outputs": [
        {
          "output_type": "stream",
          "name": "stderr",
          "text": [
            "<ipython-input-327-a174fd5f10a1>:1: UserWarning: Data index is not datetime. Assuming simple periods, but `pd.DateTimeIndex` is advised.\n",
            "  bt = Backtest(aapl_df, MLTrainOnceStrategy, commission=.0002, margin=.05)\n"
          ]
        },
        {
          "output_type": "stream",
          "name": "stdout",
          "text": [
            "=================================\n",
            "begin_total_asset:1000000\n",
            "end_total_asset:4074873.0195756163\n",
            "Sharpe:  1.2052530696886248\n",
            "=================================\n"
          ]
        },
        {
          "output_type": "execute_result",
          "data": {
            "text/plain": [
              "Start                                     0.0\n",
              "End                                    1006.0\n",
              "Duration                               1006.0\n",
              "Exposure Time [%]                   62.264151\n",
              "Equity Final [$]                    32.985181\n",
              "Equity Peak [$]                       10000.0\n",
              "Return [%]                         -99.670148\n",
              "Buy & Hold Return [%]              265.510909\n",
              "Return (Ann.) [%]                         0.0\n",
              "Volatility (Ann.) [%]                     NaN\n",
              "Sharpe Ratio                              NaN\n",
              "Sortino Ratio                             NaN\n",
              "Calmar Ratio                              0.0\n",
              "Max. Drawdown [%]                  -99.675341\n",
              "Avg. Drawdown [%]                  -99.675341\n",
              "Max. Drawdown Duration                 1005.0\n",
              "Avg. Drawdown Duration                 1005.0\n",
              "# Trades                                626.0\n",
              "Win Rate [%]                        11.022364\n",
              "Best Trade [%]                       0.698976\n",
              "Worst Trade [%]                     -3.483065\n",
              "Avg. Trade [%]                      -0.246606\n",
              "Max. Trade Duration                       1.0\n",
              "Avg. Trade Duration                  0.003195\n",
              "Profit Factor                        0.091033\n",
              "Expectancy [%]                      -0.245172\n",
              "SQN                                 -7.106897\n",
              "_strategy                 MLTrainOnceStrategy\n",
              "_equity_curve                         Equi...\n",
              "_trades                        Size  Entry...\n",
              "dtype: object"
            ]
          },
          "metadata": {},
          "execution_count": 327
        }
      ]
    }
  ]
}