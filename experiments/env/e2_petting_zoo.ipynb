{
  "nbformat": 4,
  "nbformat_minor": 0,
  "metadata": {
    "colab": {
      "provenance": [],
      "toc_visible": true
    },
    "kernelspec": {
      "name": "python3",
      "display_name": "Python 3"
    },
    "language_info": {
      "name": "python"
    }
  },
  "cells": [
    {
      "cell_type": "code",
      "execution_count": 1,
      "metadata": {
        "colab": {
          "base_uri": "https://localhost:8080/"
        },
        "id": "fJ8QSrVQYkUc",
        "outputId": "acdbb409-9861-4995-ed0e-4db2c9f6475e"
      },
      "outputs": [
        {
          "output_type": "stream",
          "name": "stdout",
          "text": [
            "Looking in indexes: https://pypi.org/simple, https://us-python.pkg.dev/colab-wheels/public/simple/\n",
            "Collecting pettingzoo\n",
            "  Downloading PettingZoo-1.22.3-py3-none-any.whl (816 kB)\n",
            "\u001b[2K     \u001b[90m━━━━━━━━━━━━━━━━━━━━━━━━━━━━━━━━━━━━━━━\u001b[0m \u001b[32m816.1/816.1 KB\u001b[0m \u001b[31m8.0 MB/s\u001b[0m eta \u001b[36m0:00:00\u001b[0m\n",
            "\u001b[?25hCollecting gymnasium>=0.26.0\n",
            "  Downloading gymnasium-0.27.1-py3-none-any.whl (883 kB)\n",
            "\u001b[2K     \u001b[90m━━━━━━━━━━━━━━━━━━━━━━━━━━━━━━━━━━━━━━\u001b[0m \u001b[32m883.7/883.7 KB\u001b[0m \u001b[31m33.0 MB/s\u001b[0m eta \u001b[36m0:00:00\u001b[0m\n",
            "\u001b[?25hRequirement already satisfied: numpy>=1.18.0 in /usr/local/lib/python3.8/dist-packages (from pettingzoo) (1.22.4)\n",
            "Requirement already satisfied: importlib-metadata>=4.8.0 in /usr/local/lib/python3.8/dist-packages (from gymnasium>=0.26.0->pettingzoo) (6.0.0)\n",
            "Collecting gymnasium-notices>=0.0.1\n",
            "  Downloading gymnasium_notices-0.0.1-py3-none-any.whl (2.8 kB)\n",
            "Requirement already satisfied: typing-extensions>=4.3.0 in /usr/local/lib/python3.8/dist-packages (from gymnasium>=0.26.0->pettingzoo) (4.5.0)\n",
            "Collecting jax-jumpy>=0.2.0\n",
            "  Downloading jax_jumpy-0.2.0-py3-none-any.whl (11 kB)\n",
            "Requirement already satisfied: cloudpickle>=1.2.0 in /usr/local/lib/python3.8/dist-packages (from gymnasium>=0.26.0->pettingzoo) (2.2.1)\n",
            "Requirement already satisfied: zipp>=0.5 in /usr/local/lib/python3.8/dist-packages (from importlib-metadata>=4.8.0->gymnasium>=0.26.0->pettingzoo) (3.15.0)\n",
            "Installing collected packages: gymnasium-notices, jax-jumpy, gymnasium, pettingzoo\n",
            "Successfully installed gymnasium-0.27.1 gymnasium-notices-0.0.1 jax-jumpy-0.2.0 pettingzoo-1.22.3\n",
            "Looking in indexes: https://pypi.org/simple, https://us-python.pkg.dev/colab-wheels/public/simple/\n",
            "Requirement already satisfied: gymnasium in /usr/local/lib/python3.8/dist-packages (0.27.1)\n",
            "Requirement already satisfied: cloudpickle>=1.2.0 in /usr/local/lib/python3.8/dist-packages (from gymnasium) (2.2.1)\n",
            "Requirement already satisfied: typing-extensions>=4.3.0 in /usr/local/lib/python3.8/dist-packages (from gymnasium) (4.5.0)\n",
            "Requirement already satisfied: importlib-metadata>=4.8.0 in /usr/local/lib/python3.8/dist-packages (from gymnasium) (6.0.0)\n",
            "Requirement already satisfied: gymnasium-notices>=0.0.1 in /usr/local/lib/python3.8/dist-packages (from gymnasium) (0.0.1)\n",
            "Requirement already satisfied: numpy>=1.21.0 in /usr/local/lib/python3.8/dist-packages (from gymnasium) (1.22.4)\n",
            "Requirement already satisfied: jax-jumpy>=0.2.0 in /usr/local/lib/python3.8/dist-packages (from gymnasium) (0.2.0)\n",
            "Requirement already satisfied: zipp>=0.5 in /usr/local/lib/python3.8/dist-packages (from importlib-metadata>=4.8.0->gymnasium) (3.15.0)\n",
            "Looking in indexes: https://pypi.org/simple, https://us-python.pkg.dev/colab-wheels/public/simple/\n",
            "Collecting stable_baselines3\n",
            "  Downloading stable_baselines3-1.7.0-py3-none-any.whl (171 kB)\n",
            "\u001b[2K     \u001b[90m━━━━━━━━━━━━━━━━━━━━━━━━━━━━━━━━━━━━━━━\u001b[0m \u001b[32m171.8/171.8 KB\u001b[0m \u001b[31m4.3 MB/s\u001b[0m eta \u001b[36m0:00:00\u001b[0m\n",
            "\u001b[?25hCollecting importlib-metadata~=4.13\n",
            "  Downloading importlib_metadata-4.13.0-py3-none-any.whl (23 kB)\n",
            "Requirement already satisfied: torch>=1.11 in /usr/local/lib/python3.8/dist-packages (from stable_baselines3) (1.13.1+cu116)\n",
            "Collecting gym==0.21\n",
            "  Downloading gym-0.21.0.tar.gz (1.5 MB)\n",
            "\u001b[2K     \u001b[90m━━━━━━━━━━━━━━━━━━━━━━━━━━━━━━━━━━━━━━━━\u001b[0m \u001b[32m1.5/1.5 MB\u001b[0m \u001b[31m28.7 MB/s\u001b[0m eta \u001b[36m0:00:00\u001b[0m\n",
            "\u001b[?25h  Preparing metadata (setup.py) ... \u001b[?25l\u001b[?25hdone\n",
            "Requirement already satisfied: cloudpickle in /usr/local/lib/python3.8/dist-packages (from stable_baselines3) (2.2.1)\n",
            "Requirement already satisfied: numpy in /usr/local/lib/python3.8/dist-packages (from stable_baselines3) (1.22.4)\n",
            "Requirement already satisfied: pandas in /usr/local/lib/python3.8/dist-packages (from stable_baselines3) (1.3.5)\n",
            "Requirement already satisfied: matplotlib in /usr/local/lib/python3.8/dist-packages (from stable_baselines3) (3.5.3)\n",
            "Requirement already satisfied: zipp>=0.5 in /usr/local/lib/python3.8/dist-packages (from importlib-metadata~=4.13->stable_baselines3) (3.15.0)\n",
            "Requirement already satisfied: typing-extensions in /usr/local/lib/python3.8/dist-packages (from torch>=1.11->stable_baselines3) (4.5.0)\n",
            "Requirement already satisfied: pyparsing>=2.2.1 in /usr/local/lib/python3.8/dist-packages (from matplotlib->stable_baselines3) (3.0.9)\n",
            "Requirement already satisfied: cycler>=0.10 in /usr/local/lib/python3.8/dist-packages (from matplotlib->stable_baselines3) (0.11.0)\n",
            "Requirement already satisfied: fonttools>=4.22.0 in /usr/local/lib/python3.8/dist-packages (from matplotlib->stable_baselines3) (4.38.0)\n",
            "Requirement already satisfied: pillow>=6.2.0 in /usr/local/lib/python3.8/dist-packages (from matplotlib->stable_baselines3) (8.4.0)\n",
            "Requirement already satisfied: python-dateutil>=2.7 in /usr/local/lib/python3.8/dist-packages (from matplotlib->stable_baselines3) (2.8.2)\n",
            "Requirement already satisfied: packaging>=20.0 in /usr/local/lib/python3.8/dist-packages (from matplotlib->stable_baselines3) (23.0)\n",
            "Requirement already satisfied: kiwisolver>=1.0.1 in /usr/local/lib/python3.8/dist-packages (from matplotlib->stable_baselines3) (1.4.4)\n",
            "Requirement already satisfied: pytz>=2017.3 in /usr/local/lib/python3.8/dist-packages (from pandas->stable_baselines3) (2022.7.1)\n",
            "Requirement already satisfied: six>=1.5 in /usr/local/lib/python3.8/dist-packages (from python-dateutil>=2.7->matplotlib->stable_baselines3) (1.15.0)\n",
            "Building wheels for collected packages: gym\n",
            "  Building wheel for gym (setup.py) ... \u001b[?25l\u001b[?25hdone\n",
            "  Created wheel for gym: filename=gym-0.21.0-py3-none-any.whl size=1616820 sha256=49a55f6f7c8c27f3b9c5aca88132f4debb8df1c51a442d0c19f005f25e85f36c\n",
            "  Stored in directory: /root/.cache/pip/wheels/27/6d/b3/a3a6e10704795c9b9000f1ab2dc480dfe7bed42f5972806e73\n",
            "Successfully built gym\n",
            "Installing collected packages: importlib-metadata, gym, stable_baselines3\n",
            "  Attempting uninstall: importlib-metadata\n",
            "    Found existing installation: importlib-metadata 6.0.0\n",
            "    Uninstalling importlib-metadata-6.0.0:\n",
            "      Successfully uninstalled importlib-metadata-6.0.0\n",
            "  Attempting uninstall: gym\n",
            "    Found existing installation: gym 0.25.2\n",
            "    Uninstalling gym-0.25.2:\n",
            "      Successfully uninstalled gym-0.25.2\n",
            "Successfully installed gym-0.21.0 importlib-metadata-4.13.0 stable_baselines3-1.7.0\n",
            "Looking in indexes: https://pypi.org/simple, https://us-python.pkg.dev/colab-wheels/public/simple/\n",
            "Collecting ta\n",
            "  Downloading ta-0.10.2.tar.gz (25 kB)\n",
            "  Preparing metadata (setup.py) ... \u001b[?25l\u001b[?25hdone\n",
            "Requirement already satisfied: numpy in /usr/local/lib/python3.8/dist-packages (from ta) (1.22.4)\n",
            "Requirement already satisfied: pandas in /usr/local/lib/python3.8/dist-packages (from ta) (1.3.5)\n",
            "Requirement already satisfied: python-dateutil>=2.7.3 in /usr/local/lib/python3.8/dist-packages (from pandas->ta) (2.8.2)\n",
            "Requirement already satisfied: pytz>=2017.3 in /usr/local/lib/python3.8/dist-packages (from pandas->ta) (2022.7.1)\n",
            "Requirement already satisfied: six>=1.5 in /usr/local/lib/python3.8/dist-packages (from python-dateutil>=2.7.3->pandas->ta) (1.15.0)\n",
            "Building wheels for collected packages: ta\n",
            "  Building wheel for ta (setup.py) ... \u001b[?25l\u001b[?25hdone\n",
            "  Created wheel for ta: filename=ta-0.10.2-py3-none-any.whl size=29106 sha256=9aa1f53bf3e4914d59f610c68372603d51facda745108ba3fc4ec6e11bdce6f0\n",
            "  Stored in directory: /root/.cache/pip/wheels/1b/81/50/db21d9643326c61dd6fee1dc2562d8351ee7753164c24ead38\n",
            "Successfully built ta\n",
            "Installing collected packages: ta\n",
            "Successfully installed ta-0.10.2\n",
            "Looking in indexes: https://pypi.org/simple, https://us-python.pkg.dev/colab-wheels/public/simple/\n",
            "Collecting yfinance\n",
            "  Downloading yfinance-0.2.12-py2.py3-none-any.whl (59 kB)\n",
            "\u001b[2K     \u001b[90m━━━━━━━━━━━━━━━━━━━━━━━━━━━━━━━━━━━━━━━━\u001b[0m \u001b[32m59.2/59.2 KB\u001b[0m \u001b[31m2.4 MB/s\u001b[0m eta \u001b[36m0:00:00\u001b[0m\n",
            "\u001b[?25hRequirement already satisfied: pandas>=1.3.0 in /usr/local/lib/python3.8/dist-packages (from yfinance) (1.3.5)\n",
            "Requirement already satisfied: appdirs>=1.4.4 in /usr/local/lib/python3.8/dist-packages (from yfinance) (1.4.4)\n",
            "Requirement already satisfied: multitasking>=0.0.7 in /usr/local/lib/python3.8/dist-packages (from yfinance) (0.0.11)\n",
            "Collecting beautifulsoup4>=4.11.1\n",
            "  Downloading beautifulsoup4-4.11.2-py3-none-any.whl (129 kB)\n",
            "\u001b[2K     \u001b[90m━━━━━━━━━━━━━━━━━━━━━━━━━━━━━━━━━━━━━━━\u001b[0m \u001b[32m129.4/129.4 KB\u001b[0m \u001b[31m6.7 MB/s\u001b[0m eta \u001b[36m0:00:00\u001b[0m\n",
            "\u001b[?25hCollecting cryptography>=3.3.2\n",
            "  Downloading cryptography-39.0.1-cp36-abi3-manylinux_2_28_x86_64.whl (4.2 MB)\n",
            "\u001b[2K     \u001b[90m━━━━━━━━━━━━━━━━━━━━━━━━━━━━━━━━━━━━━━━━\u001b[0m \u001b[32m4.2/4.2 MB\u001b[0m \u001b[31m54.5 MB/s\u001b[0m eta \u001b[36m0:00:00\u001b[0m\n",
            "\u001b[?25hCollecting html5lib>=1.1\n",
            "  Downloading html5lib-1.1-py2.py3-none-any.whl (112 kB)\n",
            "\u001b[2K     \u001b[90m━━━━━━━━━━━━━━━━━━━━━━━━━━━━━━━━━━━━━━\u001b[0m \u001b[32m112.2/112.2 KB\u001b[0m \u001b[31m15.1 MB/s\u001b[0m eta \u001b[36m0:00:00\u001b[0m\n",
            "\u001b[?25hCollecting frozendict>=2.3.4\n",
            "  Downloading frozendict-2.3.5-cp38-cp38-manylinux_2_17_x86_64.manylinux2014_x86_64.whl (111 kB)\n",
            "\u001b[2K     \u001b[90m━━━━━━━━━━━━━━━━━━━━━━━━━━━━━━━━━━━━━━\u001b[0m \u001b[32m111.2/111.2 KB\u001b[0m \u001b[31m14.5 MB/s\u001b[0m eta \u001b[36m0:00:00\u001b[0m\n",
            "\u001b[?25hRequirement already satisfied: pytz>=2022.5 in /usr/local/lib/python3.8/dist-packages (from yfinance) (2022.7.1)\n",
            "Requirement already satisfied: numpy>=1.16.5 in /usr/local/lib/python3.8/dist-packages (from yfinance) (1.22.4)\n",
            "Collecting requests>=2.26\n",
            "  Downloading requests-2.28.2-py3-none-any.whl (62 kB)\n",
            "\u001b[2K     \u001b[90m━━━━━━━━━━━━━━━━━━━━━━━━━━━━━━━━━━━━━━━━\u001b[0m \u001b[32m62.8/62.8 KB\u001b[0m \u001b[31m7.6 MB/s\u001b[0m eta \u001b[36m0:00:00\u001b[0m\n",
            "\u001b[?25hRequirement already satisfied: lxml>=4.9.1 in /usr/local/lib/python3.8/dist-packages (from yfinance) (4.9.2)\n",
            "Collecting soupsieve>1.2\n",
            "  Downloading soupsieve-2.4-py3-none-any.whl (37 kB)\n",
            "Requirement already satisfied: cffi>=1.12 in /usr/local/lib/python3.8/dist-packages (from cryptography>=3.3.2->yfinance) (1.15.1)\n",
            "Requirement already satisfied: webencodings in /usr/local/lib/python3.8/dist-packages (from html5lib>=1.1->yfinance) (0.5.1)\n",
            "Requirement already satisfied: six>=1.9 in /usr/local/lib/python3.8/dist-packages (from html5lib>=1.1->yfinance) (1.15.0)\n",
            "Requirement already satisfied: python-dateutil>=2.7.3 in /usr/local/lib/python3.8/dist-packages (from pandas>=1.3.0->yfinance) (2.8.2)\n",
            "Requirement already satisfied: charset-normalizer<4,>=2 in /usr/local/lib/python3.8/dist-packages (from requests>=2.26->yfinance) (3.0.1)\n",
            "Requirement already satisfied: idna<4,>=2.5 in /usr/local/lib/python3.8/dist-packages (from requests>=2.26->yfinance) (2.10)\n",
            "Requirement already satisfied: certifi>=2017.4.17 in /usr/local/lib/python3.8/dist-packages (from requests>=2.26->yfinance) (2022.12.7)\n",
            "Requirement already satisfied: urllib3<1.27,>=1.21.1 in /usr/local/lib/python3.8/dist-packages (from requests>=2.26->yfinance) (1.26.14)\n",
            "Requirement already satisfied: pycparser in /usr/local/lib/python3.8/dist-packages (from cffi>=1.12->cryptography>=3.3.2->yfinance) (2.21)\n",
            "Installing collected packages: soupsieve, requests, html5lib, frozendict, cryptography, beautifulsoup4, yfinance\n",
            "  Attempting uninstall: requests\n",
            "    Found existing installation: requests 2.25.1\n",
            "    Uninstalling requests-2.25.1:\n",
            "      Successfully uninstalled requests-2.25.1\n",
            "  Attempting uninstall: html5lib\n",
            "    Found existing installation: html5lib 1.0.1\n",
            "    Uninstalling html5lib-1.0.1:\n",
            "      Successfully uninstalled html5lib-1.0.1\n",
            "  Attempting uninstall: beautifulsoup4\n",
            "    Found existing installation: beautifulsoup4 4.6.3\n",
            "    Uninstalling beautifulsoup4-4.6.3:\n",
            "      Successfully uninstalled beautifulsoup4-4.6.3\n",
            "Successfully installed beautifulsoup4-4.11.2 cryptography-39.0.1 frozendict-2.3.5 html5lib-1.1 requests-2.28.2 soupsieve-2.4 yfinance-0.2.12\n"
          ]
        }
      ],
      "source": [
        "! pip install pettingzoo\n",
        "! pip install gymnasium\n",
        "! pip install stable_baselines3\n",
        "! pip install ta\n",
        "! pip install yfinance"
      ]
    },
    {
      "cell_type": "markdown",
      "source": [
        "# Imports"
      ],
      "metadata": {
        "id": "U1JTSSHSFgsG"
      }
    },
    {
      "cell_type": "code",
      "source": [
        "import pettingzoo\n",
        "from pettingzoo import AECEnv, ParallelEnv\n",
        "from pettingzoo.utils import agent_selector, wrappers\n",
        "import gymnasium\n",
        "import gym\n",
        "from stable_baselines3 import A2C, DDPG, DQN, PPO\n",
        "from ta import add_all_ta_features\n",
        "import yfinance as yf\n",
        "import matplotlib.pyplot as plt\n",
        "import pandas as pd\n",
        "import numpy as np\n",
        "import functools"
      ],
      "metadata": {
        "id": "fVfmbCQ8Y1fO"
      },
      "execution_count": 74,
      "outputs": []
    },
    {
      "cell_type": "markdown",
      "source": [
        "# Data"
      ],
      "metadata": {
        "id": "itPimO3WZcN_"
      }
    },
    {
      "cell_type": "markdown",
      "source": [
        "## Tech Indicators"
      ],
      "metadata": {
        "id": "NdcDd-Iqd_-Z"
      }
    },
    {
      "cell_type": "code",
      "source": [
        "def add_ta(df):\n",
        "  ta_df = add_all_ta_features(df, open=\"Open\", high=\"High\", low=\"Low\", close=\"Close\", volume=\"Volume\")\n",
        "  print(ta_df.columns)\n",
        "  ta_df = ta_df[[\"Open\", \"High\", \"Low\", \"Close\", \"Volume\", \"Adj Close\", \"volume_obv\",\n",
        "                                \"volume_adi\", \"trend_adx\", \"momentum_ao\", \"trend_macd\", \"momentum_rsi\", \n",
        "                                \"momentum_stoch\"]]\n",
        "  ta_df = ta_df.fillna(ta_df.mean())\n",
        "  return ta_df"
      ],
      "metadata": {
        "id": "lbA-Y5Y3grjA"
      },
      "execution_count": 75,
      "outputs": []
    },
    {
      "cell_type": "markdown",
      "source": [
        "## Stocks"
      ],
      "metadata": {
        "id": "ttJNGUWuvVF2"
      }
    },
    {
      "cell_type": "markdown",
      "source": [
        "1. Apple Inc. (AAPL)\n",
        "2. Microsoft Corp. (MSFT)\n",
        "3. Amazon.com, Inc. ( AMZN)\n",
        "4. Tesla, Inc. (TSLA)\n",
        "5. Nvidia Corp. (NVDA)"
      ],
      "metadata": {
        "id": "J3JCv_b7iw9b"
      }
    },
    {
      "cell_type": "code",
      "source": [
        "# interval = 1m,2m,5m,15m,30m,60m,90m,1h,1d,5d,1wk,1mo,3mo\n",
        "# prepost = T/F\n",
        "\n",
        "aapl_df = yf.download(\"AAPL\", start=\"2018-01-01\", end=\"2022-12-31\", keepna=True)\n",
        "aapl_df = aapl_df.fillna(aapl_df.mean())\n",
        "aapl_df = add_ta(aapl_df)\n",
        "\n",
        "# msft_df = yf.download(\"MSFT\", start=\"2022-12-01\", end=\"2022-12-31\", keepna=True)\n",
        "# amzn_df = yf.download(\"AMZN\", start=\"2022-12-01\", end=\"2022-12-31\", keepna=True)\n",
        "# tsla_df = yf.download(\"TSLA\", start=\"2022-12-01\", end=\"2022-12-31\", keepna=True)\n",
        "# nvda_df = yf.download(\"NVDA\", start=\"2022-12-01\", end=\"2022-12-31\", keepna=True)\n",
        "\n",
        "caas_df = yf.download(\"CAAS\", start=\"2018-01-01\", end=\"2022-12-31\", keepna=True)\n",
        "caas_df = caas_df.fillna(caas_df.mean())\n",
        "caas_df = add_ta(caas_df)\n",
        "\n",
        "# asc_df = yf.download(\"ASC\", start=\"2022-12-01\", end=\"2022-12-31\", keepna=True)"
      ],
      "metadata": {
        "colab": {
          "base_uri": "https://localhost:8080/"
        },
        "id": "KQW7POdeiKTJ",
        "outputId": "69d389d3-df9a-4310-a25f-37b39446ee83"
      },
      "execution_count": 76,
      "outputs": [
        {
          "output_type": "stream",
          "name": "stdout",
          "text": [
            "\r[*********************100%***********************]  1 of 1 completed\n"
          ]
        },
        {
          "output_type": "stream",
          "name": "stderr",
          "text": [
            "/usr/local/lib/python3.8/dist-packages/ta/trend.py:780: RuntimeWarning: invalid value encountered in double_scalars\n",
            "  dip[idx] = 100 * (self._dip[idx] / value)\n",
            "/usr/local/lib/python3.8/dist-packages/ta/trend.py:785: RuntimeWarning: invalid value encountered in double_scalars\n",
            "  din[idx] = 100 * (self._din[idx] / value)\n"
          ]
        },
        {
          "output_type": "stream",
          "name": "stdout",
          "text": [
            "Index(['Open', 'High', 'Low', 'Close', 'Adj Close', 'Volume', 'volume_adi',\n",
            "       'volume_obv', 'volume_cmf', 'volume_fi', 'volume_em', 'volume_sma_em',\n",
            "       'volume_vpt', 'volume_vwap', 'volume_mfi', 'volume_nvi',\n",
            "       'volatility_bbm', 'volatility_bbh', 'volatility_bbl', 'volatility_bbw',\n",
            "       'volatility_bbp', 'volatility_bbhi', 'volatility_bbli',\n",
            "       'volatility_kcc', 'volatility_kch', 'volatility_kcl', 'volatility_kcw',\n",
            "       'volatility_kcp', 'volatility_kchi', 'volatility_kcli',\n",
            "       'volatility_dcl', 'volatility_dch', 'volatility_dcm', 'volatility_dcw',\n",
            "       'volatility_dcp', 'volatility_atr', 'volatility_ui', 'trend_macd',\n",
            "       'trend_macd_signal', 'trend_macd_diff', 'trend_sma_fast',\n",
            "       'trend_sma_slow', 'trend_ema_fast', 'trend_ema_slow',\n",
            "       'trend_vortex_ind_pos', 'trend_vortex_ind_neg', 'trend_vortex_ind_diff',\n",
            "       'trend_trix', 'trend_mass_index', 'trend_dpo', 'trend_kst',\n",
            "       'trend_kst_sig', 'trend_kst_diff', 'trend_ichimoku_conv',\n",
            "       'trend_ichimoku_base', 'trend_ichimoku_a', 'trend_ichimoku_b',\n",
            "       'trend_stc', 'trend_adx', 'trend_adx_pos', 'trend_adx_neg', 'trend_cci',\n",
            "       'trend_visual_ichimoku_a', 'trend_visual_ichimoku_b', 'trend_aroon_up',\n",
            "       'trend_aroon_down', 'trend_aroon_ind', 'trend_psar_up',\n",
            "       'trend_psar_down', 'trend_psar_up_indicator',\n",
            "       'trend_psar_down_indicator', 'momentum_rsi', 'momentum_stoch_rsi',\n",
            "       'momentum_stoch_rsi_k', 'momentum_stoch_rsi_d', 'momentum_tsi',\n",
            "       'momentum_uo', 'momentum_stoch', 'momentum_stoch_signal', 'momentum_wr',\n",
            "       'momentum_ao', 'momentum_roc', 'momentum_ppo', 'momentum_ppo_signal',\n",
            "       'momentum_ppo_hist', 'momentum_pvo', 'momentum_pvo_signal',\n",
            "       'momentum_pvo_hist', 'momentum_kama', 'others_dr', 'others_dlr',\n",
            "       'others_cr'],\n",
            "      dtype='object')\n",
            "[*********************100%***********************]  1 of 1 completed\n",
            "Index(['Open', 'High', 'Low', 'Close', 'Adj Close', 'Volume', 'volume_adi',\n",
            "       'volume_obv', 'volume_cmf', 'volume_fi', 'volume_em', 'volume_sma_em',\n",
            "       'volume_vpt', 'volume_vwap', 'volume_mfi', 'volume_nvi',\n",
            "       'volatility_bbm', 'volatility_bbh', 'volatility_bbl', 'volatility_bbw',\n",
            "       'volatility_bbp', 'volatility_bbhi', 'volatility_bbli',\n",
            "       'volatility_kcc', 'volatility_kch', 'volatility_kcl', 'volatility_kcw',\n",
            "       'volatility_kcp', 'volatility_kchi', 'volatility_kcli',\n",
            "       'volatility_dcl', 'volatility_dch', 'volatility_dcm', 'volatility_dcw',\n",
            "       'volatility_dcp', 'volatility_atr', 'volatility_ui', 'trend_macd',\n",
            "       'trend_macd_signal', 'trend_macd_diff', 'trend_sma_fast',\n",
            "       'trend_sma_slow', 'trend_ema_fast', 'trend_ema_slow',\n",
            "       'trend_vortex_ind_pos', 'trend_vortex_ind_neg', 'trend_vortex_ind_diff',\n",
            "       'trend_trix', 'trend_mass_index', 'trend_dpo', 'trend_kst',\n",
            "       'trend_kst_sig', 'trend_kst_diff', 'trend_ichimoku_conv',\n",
            "       'trend_ichimoku_base', 'trend_ichimoku_a', 'trend_ichimoku_b',\n",
            "       'trend_stc', 'trend_adx', 'trend_adx_pos', 'trend_adx_neg', 'trend_cci',\n",
            "       'trend_visual_ichimoku_a', 'trend_visual_ichimoku_b', 'trend_aroon_up',\n",
            "       'trend_aroon_down', 'trend_aroon_ind', 'trend_psar_up',\n",
            "       'trend_psar_down', 'trend_psar_up_indicator',\n",
            "       'trend_psar_down_indicator', 'momentum_rsi', 'momentum_stoch_rsi',\n",
            "       'momentum_stoch_rsi_k', 'momentum_stoch_rsi_d', 'momentum_tsi',\n",
            "       'momentum_uo', 'momentum_stoch', 'momentum_stoch_signal', 'momentum_wr',\n",
            "       'momentum_ao', 'momentum_roc', 'momentum_ppo', 'momentum_ppo_signal',\n",
            "       'momentum_ppo_hist', 'momentum_pvo', 'momentum_pvo_signal',\n",
            "       'momentum_pvo_hist', 'momentum_kama', 'others_dr', 'others_dlr',\n",
            "       'others_cr'],\n",
            "      dtype='object')\n"
          ]
        }
      ]
    },
    {
      "cell_type": "code",
      "source": [
        "def add_cov(df):\n",
        "  df = df.reset_index()\n",
        "\n",
        "  cov_list = []\n",
        "  return_list = []\n",
        "\n",
        "  # look back is one year\n",
        "  lookback=252\n",
        "  for i in range(lookback,len(df.index.unique())):\n",
        "    data_lookback = df.iloc[i-lookback:i,:]\n",
        "    price_lookback=data_lookback.pivot_table(index = 'Date', values = 'Close')\n",
        "    return_lookback = price_lookback.pct_change().dropna()\n",
        "    return_list.append(return_lookback)\n",
        "\n",
        "    covs = return_lookback.cov().values \n",
        "    cov_list.append(covs)\n",
        "\n",
        "\n",
        "  df_cov = pd.DataFrame({'Date':df[\"Date\"].unique()[lookback:],'cov_list':cov_list,'return_list':return_list})\n",
        "  df = df.merge(df_cov, on='Date')\n",
        "  df = df.sort_values(['Date']).reset_index(drop=True)\n",
        "  return df"
      ],
      "metadata": {
        "id": "uJtS7XLJuSs2"
      },
      "execution_count": 77,
      "outputs": []
    },
    {
      "cell_type": "code",
      "source": [
        "aapl_df = add_cov(aapl_df)\n",
        "caas_df = add_cov(caas_df)"
      ],
      "metadata": {
        "id": "QwlliL4VulGv"
      },
      "execution_count": 78,
      "outputs": []
    },
    {
      "cell_type": "code",
      "source": [
        "new_aapl_df = aapl_df.copy()\n",
        "new_aapl_df[\"tic\"] = \"AAPL\"\n",
        "new_caas_df = caas_df.copy()\n",
        "new_caas_df[\"tic\"] = \"CAAS\"\n",
        "mixed_df = pd.concat([new_aapl_df, new_caas_df])"
      ],
      "metadata": {
        "id": "8OADGaYLI-bv"
      },
      "execution_count": 79,
      "outputs": []
    },
    {
      "cell_type": "markdown",
      "source": [
        "# Agent"
      ],
      "metadata": {
        "id": "Xk1-gVeX7bcf"
      }
    },
    {
      "cell_type": "code",
      "source": [
        "AGENT_STR_TO_OBJECT = {\n",
        "    \"A2C\": A2C,\n",
        "    \"DDPG\": DDPG,\n",
        "    \"PPO\": PPO,\n",
        "}\n",
        "policy = \"MlpPolicy\""
      ],
      "metadata": {
        "id": "DSyvx5F87ca7"
      },
      "execution_count": 80,
      "outputs": []
    },
    {
      "cell_type": "markdown",
      "source": [
        "# AEC Environment"
      ],
      "metadata": {
        "id": "AEAcvgpRfX8D"
      }
    },
    {
      "cell_type": "markdown",
      "source": [
        "## Env"
      ],
      "metadata": {
        "id": "kool_BwgkJJb"
      }
    },
    {
      "cell_type": "code",
      "source": [
        "def marl_env(render_mode=None, **kwargs):\n",
        "  internal_render_mode = render_mode if render_mode != \"ansi\" else \"human\"\n",
        "  env = raw_env(render_mode=internal_render_mode, **kwargs)\n",
        "  # This wrapper is only for environments which print results to the terminal\n",
        "  if render_mode == \"ansi\":\n",
        "      env = wrappers.CaptureStdoutWrapper(env)\n",
        "  # this wrapper helps error handling for discrete action spaces\n",
        "  env = wrappers.AssertOutOfBoundsWrapper(env)\n",
        "  # Provides a wide vareity of helpful user errors\n",
        "  # Strongly recommended\n",
        "  env = wrappers.OrderEnforcingWrapper(env)\n",
        "  return env\n",
        "\n",
        "class raw_env(AECEnv):\n",
        "  metadata = {\"render_modes\": [\"human\"], \"name\": \"marlpm_v1\"}\n",
        "\n",
        "  def __init__(\n",
        "      self, \n",
        "      df,\n",
        "      stock_dim,\n",
        "      hmax,\n",
        "      initial_amount,\n",
        "      transaction_cost_pct,\n",
        "      reward_scaling,\n",
        "      state_space,\n",
        "      action_space,\n",
        "      tech_indicator_list,\n",
        "      turbulence_threshold=None,\n",
        "      lookback=252,\n",
        "      day=0,\n",
        "      render_mode=None,\n",
        "  ):\n",
        "\n",
        "    # attributes\n",
        "    self.lookback=lookback\n",
        "    self.df = df\n",
        "    self.stock_dim = stock_dim\n",
        "    self.hmax = hmax\n",
        "    self.initial_amount = initial_amount\n",
        "    self.transaction_cost_pct =transaction_cost_pct\n",
        "    self.reward_scaling = reward_scaling\n",
        "    self.state_space = state_space\n",
        "    self.action_space = action_space\n",
        "    self.tech_indicator_list = tech_indicator_list\n",
        "\n",
        "    # agents\n",
        "    self.possible_agents = [\"A2C\", \"DDPG\", \"PPO\"]\n",
        "\n",
        "    # spaces\n",
        "    # self.action_space = {agent: gym.spaces.Box(low = -1, high = 1, shape = (self.action_space,)) for agent in self.possible_agents}\n",
        "    # self.observation_space = {\n",
        "    #     agent: gym.spaces.Box(low=0, high=np.inf, shape = (1+len(self.tech_indicator_list), self.state_space)) for agent in self.possible_agents\n",
        "    # }\n",
        "    # to fix?\n",
        "    self.action_space = gym.spaces.Box(low = -1, high = 1, shape = (self.action_space,))\n",
        "    self.observation_space = gym.spaces.Box(low=0, high=np.inf, shape = (1+len(self.tech_indicator_list), self.state_space))\n",
        "\n",
        "    # agents setup\n",
        "    self.agent_name_mapping = {\n",
        "        agent: AGENT_STR_TO_OBJECT[agent](policy, self) for agent in self.possible_agents\n",
        "    }\n",
        "    self.training_agent = None\n",
        "    self.day = {\n",
        "        agent: day for agent in self.possible_agents\n",
        "    }\n",
        "\n",
        "    # data\n",
        "    self.data = {\n",
        "        agent: self.df.loc[self.day[agent],:] for agent in self.possible_agents\n",
        "    }\n",
        "    self.covs = {\n",
        "        agent: [[x[0][0] for x in self.data[agent]['cov_list']]] for agent in self.possible_agents\n",
        "    }\n",
        "    self.state = {\n",
        "        agent: np.append(np.array(self.covs[agent]), [self.data[agent][tech].values.tolist() for tech in self.tech_indicator_list ], axis=0) for agent in self.possible_agents\n",
        "    }\n",
        "    # self.data = self.df.loc[self.day[\"A2C\"],:] # to fix\n",
        "    # self.covs = [[x[0][0] for x in self.data['cov_list']]]\n",
        "    # self.state =  np.append(np.array(self.covs), [self.data[tech].values.tolist() for tech in self.tech_indicator_list ], axis=0)\n",
        "    self.terminal = False     \n",
        "    self.turbulence_threshold = turbulence_threshold   \n",
        "\n",
        "    # memory\n",
        "    self.portfolio_value = {\n",
        "        agent: self.initial_amount for agent in self.possible_agents\n",
        "    }\n",
        "    self.asset_memory = {\n",
        "        agent: [self.initial_amount] for agent in self.possible_agents\n",
        "    }\n",
        "    self.portfolio_return_memory = {\n",
        "        agent: [0] for agent in self.possible_agents\n",
        "    }\n",
        "    self.actions_memory = {\n",
        "        agent: [[1/self.stock_dim]*self.stock_dim] for agent in self.possible_agents\n",
        "    }\n",
        "    self.date_memory = {\n",
        "        agent: [self.data[agent][\"Date\"].unique()[0]] for agent in self.possible_agents\n",
        "    }\n",
        "\n",
        "    # observations (todo)\n",
        "    self.observations = {\n",
        "        agent: None for agent in self.possible_agents\n",
        "    }\n",
        "\n",
        "    # render mode\n",
        "    self.render_mode = render_mode\n",
        "\n",
        "  # @functools.lru_cache(maxsize=None)\n",
        "  # def observation_space(self, agent):\n",
        "  #   # gymnasium spaces are defined and documented here: https://gymnasium.farama.org/api/spaces/\n",
        "  #   return gym.Box(low=0, high=np.inf, shape = (1+len(self.tech_indicator_list), self.state_space))\n",
        "\n",
        "  # @functools.lru_cache(maxsize=None)\n",
        "  # def action_space(self, agent):\n",
        "  #   return gym.Box(low = -1, high = 1, shape = (self.action_space,))\n",
        "  \n",
        "  def step(self, actions):\n",
        "    # print(self.day)\n",
        "    # print(actions)\n",
        "\n",
        "    # termination\n",
        "    # to fix\n",
        "    self.terminal = self.day[self.training_agent] >= len(self.df.index.unique())/self.stock_dim-1\n",
        "    # self.terminal = {\n",
        "    #     agent: self.day >= len(self.df.index.unique())/self.stock_dim-1 for agent in self.possible_agents\n",
        "    # }\n",
        "\n",
        "    if self.terminal:\n",
        "      df = pd.DataFrame(self.portfolio_return_memory[self.training_agent])\n",
        "      df.columns = ['daily_return']\n",
        "      plt.plot(df.daily_return.cumsum(),'r')\n",
        "      # plt.savefig('results/cumulative_reward.png')\n",
        "      plt.close()\n",
        "\n",
        "      plt.plot(self.portfolio_return_memory[self.training_agent],'r')\n",
        "      # plt.savefig('results/rewards.png')\n",
        "      plt.close()\n",
        "\n",
        "      print(\"=================================\")\n",
        "      print(\"begin_total_asset:{}\".format(self.asset_memory[self.training_agent][0]))           \n",
        "      print(\"end_total_asset:{}\".format(self.portfolio_value[self.training_agent]))\n",
        "\n",
        "      df_daily_return = pd.DataFrame(self.portfolio_return_memory[self.training_agent])\n",
        "      df_daily_return.columns = ['daily_return']\n",
        "      if df_daily_return['daily_return'].std() !=0:\n",
        "        sharpe = (252**0.5)*df_daily_return['daily_return'].mean()/ \\\n",
        "                  df_daily_return['daily_return'].std()\n",
        "        print(\"Sharpe: \",sharpe)\n",
        "      print(\"=================================\")\n",
        "\n",
        "      return self.state[self.training_agent], self.reward[self.training_agent], self.terminal, {}\n",
        "\n",
        "    else:\n",
        "      for agent in self.possible_agents:\n",
        "        # normalisation?\n",
        "        weights = self.softmax_normalization(actions) \n",
        "        self.actions_memory[agent].append(weights)\n",
        "        last_day_memory = self.data[agent]\n",
        "\n",
        "        #load next state\n",
        "        self.day[agent] += 1\n",
        "        self.data[agent] = self.df.loc[self.day[agent],:]\n",
        "        self.covs[agent] = [[x[0][0] for x in self.data[agent]['cov_list']]]\n",
        "        self.state[agent] =  np.append(np.array(self.covs[agent]), [self.data[agent][tech].values.tolist() for tech in self.tech_indicator_list ], axis=0)\n",
        "        # calculate portfolio return\n",
        "        # individual stocks' return * weight\n",
        "        portfolio_return = sum(((self.data[agent][\"Close\"].values / last_day_memory[\"Close\"].values)-1)*weights)\n",
        "        # update portfolio value\n",
        "        new_portfolio_value = self.portfolio_value[agent]*(1+portfolio_return)\n",
        "        self.portfolio_value[agent] = new_portfolio_value\n",
        "\n",
        "        # save into memory\n",
        "        self.portfolio_return_memory[agent].append(portfolio_return)\n",
        "        self.date_memory[agent].append(self.data[agent][\"Date\"].unique()[0])            \n",
        "        self.asset_memory[agent].append(new_portfolio_value)\n",
        "\n",
        "        # the reward is the new portfolio value or end portfolo value\n",
        "        self.reward[agent] = new_portfolio_value \n",
        "        #self.reward = self.reward*self.reward_scaling\n",
        "        # self.reward *= (self.reward / pv)\n",
        "      \n",
        "      for agent, pv in self.reward.items():\n",
        "        if agent == self.training_agent:\n",
        "          continue\n",
        "        self.reward[self.training_agent] *= (self.reward[self.training_agent] / pv)\n",
        "\n",
        "    return self.state[agent], self.reward[self.training_agent], self.terminal, {}\n",
        "\n",
        "  def observe(self, agent):\n",
        "    # to fix\n",
        "    return self.observations[agent]\n",
        "\n",
        "  def reset(self, seed=None, return_info=False, options=None):\n",
        "    print(\"reset\")\n",
        "    \n",
        "    # agents\n",
        "    self.agents = self.possible_agents[:]\n",
        "    # self.agent_selector = agent_selector(self.agents)\n",
        "    # self.curr_agent = self.agent_selector.next()\n",
        "\n",
        "    # attributes\n",
        "    self.day = {\n",
        "        agent: 0 for agent in self.possible_agents\n",
        "    }\n",
        "    self.data = {\n",
        "        agent: self.df.loc[self.day[agent],:] for agent in self.possible_agents\n",
        "    }\n",
        "    self.covs = {\n",
        "        agent: [[x[0][0] for x in self.data[agent]['cov_list']]] for agent in self.possible_agents\n",
        "    }\n",
        "    self.state = {\n",
        "        agent: np.append(np.array(self.covs[agent]), [self.data[agent][tech].values.tolist() for tech in self.tech_indicator_list ], axis=0) for agent in self.possible_agents\n",
        "    }\n",
        "\n",
        "    # memory\n",
        "    self.portfolio_value = {\n",
        "        agent: self.initial_amount for agent in self.possible_agents\n",
        "    }\n",
        "    self.asset_memory = {\n",
        "        agent: [self.initial_amount] for agent in self.possible_agents\n",
        "    }\n",
        "    self.portfolio_return_memory = {\n",
        "        agent: [0] for agent in self.possible_agents\n",
        "    }\n",
        "    self.actions_memory = {\n",
        "        agent: [[1/self.stock_dim]*self.stock_dim] for agent in self.possible_agents\n",
        "    }\n",
        "    self.date_memory = {\n",
        "        agent: [self.data[agent][\"Date\"].unique()[0]] for agent in self.possible_agents\n",
        "    }\n",
        "\n",
        "    # rewards\n",
        "    self.reward = {\n",
        "        agent: None for agent in self.possible_agents\n",
        "    }\n",
        "    self.observations = {\n",
        "        agent: None for agent in self.possible_agents\n",
        "    }\n",
        "    \n",
        "    # misc\n",
        "    self.terminal = False \n",
        "    #self.cost = 0\n",
        "    #self.trades = 0\n",
        "\n",
        "    return self.state[self.training_agent]\n",
        "\n",
        "  def render(self):\n",
        "    return self.state[self.training_agent]\n",
        "\n",
        "  def seed(self, seed=None):\n",
        "    self.np_random, seed = seeding.np_random(seed)\n",
        "    return [seed]\n",
        "\n",
        "  def close(self):\n",
        "    pass\n",
        "  \n",
        "  def softmax_normalization(self, actions):\n",
        "    numerator = np.exp(actions)\n",
        "    denominator = np.sum(np.exp(actions))\n",
        "    softmax_output = numerator/denominator\n",
        "    return softmax_output\n",
        "\n",
        "  def set_training_agent(self, agent):\n",
        "    print(agent)\n",
        "    self.training_agent = agent\n",
        "\n",
        "  def learn(self, total_timesteps=1000):\n",
        "    for agent in self.possible_agents:\n",
        "      self.set_training_agent(agent)\n",
        "      self.agent_name_mapping[agent] = self.agent_name_mapping[agent].learn(total_timesteps=total_timesteps)"
      ],
      "metadata": {
        "id": "kS1rm8FmkKr0"
      },
      "execution_count": 81,
      "outputs": []
    },
    {
      "cell_type": "markdown",
      "source": [
        "## Demo"
      ],
      "metadata": {
        "id": "6LnUqPyJGNn7"
      }
    },
    {
      "cell_type": "code",
      "source": [
        "stock_dimension = len(mixed_df[\"tic\"].unique())\n",
        "state_space = 2\n",
        "\n",
        "env_kwargs = {\n",
        "  \"hmax\": 100, \n",
        "  \"initial_amount\": 1000000, \n",
        "  \"transaction_cost_pct\": 0.001, \n",
        "  \"state_space\": state_space, \n",
        "  \"stock_dim\": stock_dimension, \n",
        "  \"tech_indicator_list\": [\n",
        "    \"volume_obv\",\n",
        "    \"volume_adi\", \n",
        "    \"trend_adx\", \n",
        "    \"momentum_ao\", \n",
        "    \"trend_macd\", \n",
        "    \"momentum_rsi\", \n",
        "    \"momentum_stoch\"\n",
        "  ], \n",
        "  \"action_space\": stock_dimension, \n",
        "  \"reward_scaling\": 1e-4,\n",
        "    \n",
        "}"
      ],
      "metadata": {
        "id": "ycPhFx6DHBmb"
      },
      "execution_count": 82,
      "outputs": []
    },
    {
      "cell_type": "code",
      "source": [
        "test_env = raw_env(df=mixed_df, **env_kwargs)"
      ],
      "metadata": {
        "id": "ZWQiNEmoGOyJ"
      },
      "execution_count": 83,
      "outputs": []
    },
    {
      "cell_type": "markdown",
      "source": [
        "## Train"
      ],
      "metadata": {
        "id": "TTMY-Sxf0uCT"
      }
    },
    {
      "cell_type": "code",
      "source": [
        "test_env.set_training_agent(\"A2C\")\n",
        "test_env.learn(\n",
        "    total_timesteps=1000,\n",
        ")"
      ],
      "metadata": {
        "colab": {
          "base_uri": "https://localhost:8080/"
        },
        "id": "yfm58Y3s0u7D",
        "outputId": "cdee3224-9a84-4bca-952d-591d920e6a17"
      },
      "execution_count": null,
      "outputs": [
        {
          "output_type": "stream",
          "name": "stdout",
          "text": [
            "A2C\n",
            "A2C\n",
            "reset\n",
            "=================================\n",
            "begin_total_asset:1000000\n",
            "end_total_asset:5362344.637432834\n",
            "Sharpe:  1.276287990876499\n",
            "=================================\n",
            "reset\n",
            "DDPG\n",
            "reset\n",
            "=================================\n",
            "begin_total_asset:1000000\n",
            "end_total_asset:3604241.3692432614\n",
            "Sharpe:  1.5860838968062432\n",
            "=================================\n",
            "reset\n",
            "=================================\n",
            "begin_total_asset:1000000\n",
            "end_total_asset:3204377.9254798056\n",
            "Sharpe:  1.4957033991275601\n",
            "=================================\n",
            "reset\n",
            "PPO\n",
            "reset\n",
            "=================================\n",
            "begin_total_asset:1000000\n",
            "end_total_asset:3714648.0341599225\n",
            "Sharpe:  0.9976891093099292\n",
            "=================================\n",
            "reset\n"
          ]
        }
      ]
    },
    {
      "cell_type": "markdown",
      "source": [
        "# Parallel Environment"
      ],
      "metadata": {
        "id": "a_4gyCFrfZz2"
      }
    }
  ]
}